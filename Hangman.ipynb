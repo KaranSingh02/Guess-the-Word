{
 "cells": [
  {
   "cell_type": "code",
   "execution_count": 1,
   "metadata": {},
   "outputs": [],
   "source": [
    "import random\n",
    "from collections import Counter "
   ]
  },
  {
   "cell_type": "code",
   "execution_count": 4,
   "metadata": {},
   "outputs": [],
   "source": [
    "f = open(\"fruits.txt\",'r')\n",
    "fruits = f.readline()\n",
    "fruits = fruits.split(' ')"
   ]
  },
  {
   "cell_type": "code",
   "execution_count": 5,
   "metadata": {},
   "outputs": [],
   "source": [
    "word = random.choice(fruits)"
   ]
  },
  {
   "cell_type": "code",
   "execution_count": 11,
   "metadata": {},
   "outputs": [
    {
     "name": "stdout",
     "output_type": "stream",
     "text": [
      "Guess the word! hint: It is a name of a fruit\n",
      "_ _ _ _ _ \n",
      "\n",
      "Enter a letter to guess: a\n",
      "_ _ _ _ _ \n",
      "Enter a letter to guess: m\n",
      "_ _ _ _ _ \n",
      "Enter a letter to guess: e\n",
      "_ e _ _ _ \n",
      "Enter a letter to guess: p\n",
      "_ e _ _ _ \n",
      "Enter a letter to guess: n\n",
      "_ e _ _ _ \n",
      "Enter a letter to guess: l\n",
      "_ e _ _ _ \n",
      "You lost,Better Luck  next time.\n",
      "The word was berry\n"
     ]
    }
   ],
   "source": [
    "if __name__ == '__main__':\n",
    "    print('Guess the word! hint: It is a name of a fruit')\n",
    "    \n",
    "    for i in word:\n",
    "        #for printing empty spaces of letters in the word\n",
    "        print ('_',end = ' ')\n",
    "    print()\n",
    "    \n",
    "    playing = True\n",
    "    #list for storing letters guessed by the player\n",
    "    letterGuessed = ''\n",
    "    chances = len(word) + 1\n",
    "    correct = 0\n",
    "    \n",
    "    try:\n",
    "        while (chances != 0):\n",
    "            print()\n",
    "            chances -= 1\n",
    "            \n",
    "            try:\n",
    "                guess = str(input('Enter a letter to guess: '))\n",
    "            except:\n",
    "                print('Enter only a letter!')\n",
    "                continue\n",
    "            \n",
    "            #validation of the guess\n",
    "            if not guess.isalpha():\n",
    "                print ('Enter only a letter')\n",
    "                continue\n",
    "            elif len(guess) > 1:\n",
    "                print ('Enter only a single letter')\n",
    "                continue\n",
    "            elif guess in letterGuessed:\n",
    "                print ('You have already guessed this letter')\n",
    "                continue\n",
    "            \n",
    "            #if letter is guessed correctly\n",
    "            if guess in word:\n",
    "                letterGuessed += guess\n",
    "                \n",
    "            #rint the word\n",
    "            for char in word:\n",
    "                if char in letterGuessed:\n",
    "                    print(char,end=' ')\n",
    "                    correct += 1\n",
    "                else:\n",
    "                    print('_',end = ' ')\n",
    "                    \n",
    "            #if user has guessed all the letters\n",
    "            if (Counter(letterGuessed) == Counter(word)):\n",
    "                print()\n",
    "                print ('Congratulations, You Won')\n",
    "                break\n",
    "            \n",
    "            #if user has used all of his chances\n",
    "            if chances == 0:\n",
    "                print()\n",
    "                print('You lost,Better Luck  next time.')\n",
    "                print ('The word was {}'.format(word))\n",
    "    except ValueError:\n",
    "        print()\n",
    "        print('Bye! Try again.')\n",
    "        exit()"
   ]
  }
 ],
 "metadata": {
  "kernelspec": {
   "display_name": "Python 3",
   "language": "python",
   "name": "python3"
  },
  "language_info": {
   "codemirror_mode": {
    "name": "ipython",
    "version": 3
   },
   "file_extension": ".py",
   "mimetype": "text/x-python",
   "name": "python",
   "nbconvert_exporter": "python",
   "pygments_lexer": "ipython3",
   "version": "3.6.6"
  }
 },
 "nbformat": 4,
 "nbformat_minor": 2
}
